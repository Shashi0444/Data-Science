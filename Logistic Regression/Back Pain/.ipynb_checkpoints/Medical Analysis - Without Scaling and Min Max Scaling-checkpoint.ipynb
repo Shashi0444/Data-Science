{
 "cells": [
  {
   "cell_type": "code",
   "execution_count": null,
   "metadata": {},
   "outputs": [],
   "source": [
    "Same Medical data we will try to analyse with 2 different approaches here:\n",
    "    1. Without Scaling the dataset\n",
    "    2. Using Min-Max Scaling"
   ]
  },
  {
   "cell_type": "code",
   "execution_count": 22,
   "metadata": {},
   "outputs": [],
   "source": [
    "#importing all libraries\n",
    "import pandas as pd\n",
    "import seaborn as sns\n",
    "import matplotlib.pyplot as plt"
   ]
  },
  {
   "cell_type": "code",
   "execution_count": 23,
   "metadata": {},
   "outputs": [],
   "source": [
    "#importing dataset\n",
    "dataSet = pd.read_csv(\"Dataset_spine.csv\")"
   ]
  },
  {
   "cell_type": "markdown",
   "metadata": {},
   "source": [
    "Basic data sanity and exploratory data analysis is already done in other sheet. So will skip this step here."
   ]
  },
  {
   "cell_type": "markdown",
   "metadata": {},
   "source": [
    "## Data Preprocessing"
   ]
  },
  {
   "cell_type": "code",
   "execution_count": 24,
   "metadata": {},
   "outputs": [],
   "source": [
    "# Deleting 13th column\n",
    "del dataSet['Unnamed: 13']\n",
    "#Naming all the columns\n",
    "dataSet.columns = ['pelvic_incidence','pelvic tilt','lumbar_lordosis_angle','sacral_slope','pelvic_radius','degree_spondylolisthesis','pelvic_slope','Direct_tilt','thoracic_slope','cervical_tilt','sacrum_angle','scoliosis_slope','Status']"
   ]
  },
  {
   "cell_type": "code",
   "execution_count": 25,
   "metadata": {},
   "outputs": [],
   "source": [
    "#changing the string value to numerical for status column\n",
    "dataSet.loc[dataSet['Status'] == 'Abnormal','Status'] = 1\n",
    "dataSet.loc[dataSet['Status'] == 'Normal','Status'] = 0"
   ]
  },
  {
   "cell_type": "code",
   "execution_count": 26,
   "metadata": {},
   "outputs": [],
   "source": [
    "#get the x and y variable from dataset\n",
    "X = dataSet.loc[:,dataSet.columns != 'Status']\n",
    "y = dataSet.loc[:,dataSet.columns == 'Status']"
   ]
  },
  {
   "cell_type": "code",
   "execution_count": 27,
   "metadata": {},
   "outputs": [],
   "source": [
    "# Importing libraries related to preprocessing:\n",
    "from sklearn import preprocessing\n",
    "from sklearn.preprocessing import MinMaxScaler\n",
    "from sklearn.model_selection import train_test_split"
   ]
  },
  {
   "cell_type": "code",
   "execution_count": 28,
   "metadata": {},
   "outputs": [],
   "source": [
    "def data_preprocess_withoutScaling(X,y):\n",
    "    X_train, X_test, y_train, y_test = train_test_split(X, y.values.ravel(), test_size=0.3, random_state=0)  \n",
    "    # convert the y-variable data type to int :\n",
    "    y_train=y_train.astype('int')\n",
    "    y_test=y_test.astype('int')\n",
    "    return(X_train, X_test, y_train, y_test)\n"
   ]
  },
  {
   "cell_type": "code",
   "execution_count": 29,
   "metadata": {},
   "outputs": [],
   "source": [
    "def data_preprocess_withMinMaxScaling(X,y):\n",
    "    X_train, X_test, y_train, y_test = train_test_split(X, y.values.ravel(), test_size=0.3, random_state=0)  \n",
    "    scaler = MinMaxScaler()\n",
    "\n",
    "    scaler.fit(X_train)\n",
    "\n",
    "    # Now apply the transformations to the data:\n",
    "    train_scaled = scaler.transform(X_train)\n",
    "    test_scaled = scaler.transform(X_test)\n",
    "    \n",
    "    # convert the y-variable data type to int :\n",
    "    y_train=y_train.astype('int')\n",
    "    y_test=y_test.astype('int')\n",
    "    return(train_scaled, test_scaled, y_train, y_test)\n"
   ]
  },
  {
   "cell_type": "code",
   "execution_count": 30,
   "metadata": {},
   "outputs": [],
   "source": [
    "# X_train_withoutscal, X_test_withoutscal, y_train, y_test = data_preprocess_withoutScaling(X,y)\n",
    "X_train_mimmaxscaled, X_test_minmaxscaled, y_train, y_test = data_preprocess_withMinMaxScaling(X,y)"
   ]
  },
  {
   "cell_type": "markdown",
   "metadata": {},
   "source": [
    "## Building the Model"
   ]
  },
  {
   "cell_type": "code",
   "execution_count": 31,
   "metadata": {},
   "outputs": [],
   "source": [
    "#importing required libraries\n",
    "from sklearn.linear_model import LogisticRegression\n",
    "import statsmodels.api as sm"
   ]
  },
  {
   "cell_type": "code",
   "execution_count": 32,
   "metadata": {},
   "outputs": [],
   "source": [
    "def logistic_regression(x,y):\n",
    "    logreg = LogisticRegression().fit(x, y)\n",
    "    return(logreg)"
   ]
  },
  {
   "cell_type": "markdown",
   "metadata": {},
   "source": [
    "### No Scalling - Model 1"
   ]
  },
  {
   "cell_type": "code",
   "execution_count": 15,
   "metadata": {},
   "outputs": [
    {
     "name": "stderr",
     "output_type": "stream",
     "text": [
      "C:\\ProgramData\\Anaconda3\\lib\\site-packages\\sklearn\\linear_model\\_logistic.py:762: ConvergenceWarning: lbfgs failed to converge (status=1):\n",
      "STOP: TOTAL NO. of ITERATIONS REACHED LIMIT.\n",
      "\n",
      "Increase the number of iterations (max_iter) or scale the data as shown in:\n",
      "    https://scikit-learn.org/stable/modules/preprocessing.html\n",
      "Please also refer to the documentation for alternative solver options:\n",
      "    https://scikit-learn.org/stable/modules/linear_model.html#logistic-regression\n",
      "  n_iter_i = _check_optimize_result(\n"
     ]
    }
   ],
   "source": [
    "logreg_result_withoutscale = logistic_regression(X_train_withoutscal, y_train)"
   ]
  },
  {
   "cell_type": "code",
   "execution_count": 17,
   "metadata": {},
   "outputs": [
    {
     "name": "stdout",
     "output_type": "stream",
     "text": [
      "Training score : 0.87\n",
      "Testing score : 0.80\n"
     ]
    }
   ],
   "source": [
    "#print the train - test scores\n",
    "print(\"Training score : {:.2f}\".format(logreg_result_withoutscale.score(X_train_withoutscal,y_train)))\n",
    "print(\"Testing score : {:.2f}\".format(logreg_result_withoutscale.score(X_test_withoutscal,y_test)))"
   ]
  },
  {
   "cell_type": "code",
   "execution_count": 20,
   "metadata": {},
   "outputs": [
    {
     "name": "stdout",
     "output_type": "stream",
     "text": [
      "Warning: Maximum number of iterations has been exceeded.\n",
      "         Current function value: 0.298731\n",
      "         Iterations: 35\n"
     ]
    },
    {
     "name": "stderr",
     "output_type": "stream",
     "text": [
      "C:\\ProgramData\\Anaconda3\\lib\\site-packages\\statsmodels\\base\\model.py:567: ConvergenceWarning: Maximum Likelihood optimization failed to converge. Check mle_retvals\n",
      "  warn(\"Maximum Likelihood optimization failed to converge. \"\n",
      "C:\\ProgramData\\Anaconda3\\lib\\site-packages\\statsmodels\\base\\model.py:1354: RuntimeWarning: invalid value encountered in sqrt\n",
      "  bse_ = np.sqrt(np.diag(self.cov_params()))\n",
      "C:\\ProgramData\\Anaconda3\\lib\\site-packages\\scipy\\stats\\_distn_infrastructure.py:1932: RuntimeWarning: invalid value encountered in less_equal\n",
      "  cond2 = cond0 & (x <= _a)\n"
     ]
    },
    {
     "data": {
      "text/html": [
       "<table class=\"simpletable\">\n",
       "<tr>\n",
       "        <td>Model:</td>              <td>Logit</td>      <td>Pseudo R-squared:</td>    <td>0.525</td>  \n",
       "</tr>\n",
       "<tr>\n",
       "  <td>Dependent Variable:</td>         <td>y</td>              <td>AIC:</td>         <td>153.6491</td> \n",
       "</tr>\n",
       "<tr>\n",
       "         <td>Date:</td>        <td>2021-04-03 10:26</td>       <td>BIC:</td>         <td>194.2079</td> \n",
       "</tr>\n",
       "<tr>\n",
       "   <td>No. Observations:</td>         <td>217</td>        <td>Log-Likelihood:</td>    <td>-64.825</td> \n",
       "</tr>\n",
       "<tr>\n",
       "       <td>Df Model:</td>             <td>11</td>            <td>LL-Null:</td>        <td>-136.45</td> \n",
       "</tr>\n",
       "<tr>\n",
       "     <td>Df Residuals:</td>           <td>205</td>         <td>LLR p-value:</td>    <td>3.5513e-25</td>\n",
       "</tr>\n",
       "<tr>\n",
       "      <td>Converged:</td>           <td>0.0000</td>           <td>Scale:</td>         <td>1.0000</td>  \n",
       "</tr>\n",
       "<tr>\n",
       "    <td>No. Iterations:</td>        <td>35.0000</td>             <td></td>               <td></td>     \n",
       "</tr>\n",
       "</table>\n",
       "<table class=\"simpletable\">\n",
       "<tr>\n",
       "              <td></td>               <th>Coef.</th>  <th>Std.Err.</th>    <th>z</th>     <th>P>|z|</th> <th>[0.025</th>  <th>0.975]</th> \n",
       "</tr>\n",
       "<tr>\n",
       "  <th>pelvic_incidence</th>          <td>12.8611</td>    <td>nan</td>     <td>nan</td>     <td>nan</td>    <td>nan</td>     <td>nan</td>  \n",
       "</tr>\n",
       "<tr>\n",
       "  <th>pelvic tilt</th>              <td>-12.7440</td>    <td>nan</td>     <td>nan</td>     <td>nan</td>    <td>nan</td>     <td>nan</td>  \n",
       "</tr>\n",
       "<tr>\n",
       "  <th>lumbar_lordosis_angle</th>     <td>-0.0513</td>  <td>0.0286</td>  <td>-1.7897</td> <td>0.0735</td> <td>-0.1074</td> <td>0.0049</td> \n",
       "</tr>\n",
       "<tr>\n",
       "  <th>sacral_slope</th>             <td>-12.8725</td>    <td>nan</td>     <td>nan</td>     <td>nan</td>    <td>nan</td>     <td>nan</td>  \n",
       "</tr>\n",
       "<tr>\n",
       "  <th>pelvic_radius</th>             <td>-0.0231</td>  <td>0.0117</td>  <td>-1.9647</td> <td>0.0494</td> <td>-0.0461</td> <td>-0.0001</td>\n",
       "</tr>\n",
       "<tr>\n",
       "  <th>degree_spondylolisthesis</th>  <td>0.1859</td>   <td>0.0320</td>  <td>5.8080</td>  <td>0.0000</td> <td>0.1232</td>  <td>0.2487</td> \n",
       "</tr>\n",
       "<tr>\n",
       "  <th>pelvic_slope</th>              <td>0.2282</td>   <td>0.8277</td>  <td>0.2757</td>  <td>0.7828</td> <td>-1.3941</td> <td>1.8505</td> \n",
       "</tr>\n",
       "<tr>\n",
       "  <th>Direct_tilt</th>               <td>-0.0096</td>  <td>0.0280</td>  <td>-0.3417</td> <td>0.7326</td> <td>-0.0645</td> <td>0.0453</td> \n",
       "</tr>\n",
       "<tr>\n",
       "  <th>thoracic_slope</th>            <td>0.0518</td>   <td>0.0715</td>  <td>0.7241</td>  <td>0.4690</td> <td>-0.0883</td> <td>0.1919</td> \n",
       "</tr>\n",
       "<tr>\n",
       "  <th>cervical_tilt</th>             <td>0.2089</td>   <td>0.0820</td>  <td>2.5488</td>  <td>0.0108</td> <td>0.0483</td>  <td>0.3696</td> \n",
       "</tr>\n",
       "<tr>\n",
       "  <th>sacrum_angle</th>              <td>-0.0072</td>  <td>0.0188</td>  <td>-0.3833</td> <td>0.7015</td> <td>-0.0440</td> <td>0.0296</td> \n",
       "</tr>\n",
       "<tr>\n",
       "  <th>scoliosis_slope</th>           <td>-0.0265</td>  <td>0.0223</td>  <td>-1.1877</td> <td>0.2350</td> <td>-0.0702</td> <td>0.0172</td> \n",
       "</tr>\n",
       "</table>"
      ],
      "text/plain": [
       "<class 'statsmodels.iolib.summary2.Summary'>\n",
       "\"\"\"\n",
       "                             Results: Logit\n",
       "=========================================================================\n",
       "Model:                  Logit              Pseudo R-squared:   0.525     \n",
       "Dependent Variable:     y                  AIC:                153.6491  \n",
       "Date:                   2021-04-03 10:26   BIC:                194.2079  \n",
       "No. Observations:       217                Log-Likelihood:     -64.825   \n",
       "Df Model:               11                 LL-Null:            -136.45   \n",
       "Df Residuals:           205                LLR p-value:        3.5513e-25\n",
       "Converged:              0.0000             Scale:              1.0000    \n",
       "No. Iterations:         35.0000                                          \n",
       "-------------------------------------------------------------------------\n",
       "                          Coef.   Std.Err.    z    P>|z|   [0.025  0.975]\n",
       "-------------------------------------------------------------------------\n",
       "pelvic_incidence          12.8611      nan     nan    nan     nan     nan\n",
       "pelvic tilt              -12.7440      nan     nan    nan     nan     nan\n",
       "lumbar_lordosis_angle     -0.0513   0.0286 -1.7897 0.0735 -0.1074  0.0049\n",
       "sacral_slope             -12.8725      nan     nan    nan     nan     nan\n",
       "pelvic_radius             -0.0231   0.0117 -1.9647 0.0494 -0.0461 -0.0001\n",
       "degree_spondylolisthesis   0.1859   0.0320  5.8080 0.0000  0.1232  0.2487\n",
       "pelvic_slope               0.2282   0.8277  0.2757 0.7828 -1.3941  1.8505\n",
       "Direct_tilt               -0.0096   0.0280 -0.3417 0.7326 -0.0645  0.0453\n",
       "thoracic_slope             0.0518   0.0715  0.7241 0.4690 -0.0883  0.1919\n",
       "cervical_tilt              0.2089   0.0820  2.5488 0.0108  0.0483  0.3696\n",
       "sacrum_angle              -0.0072   0.0188 -0.3833 0.7015 -0.0440  0.0296\n",
       "scoliosis_slope           -0.0265   0.0223 -1.1877 0.2350 -0.0702  0.0172\n",
       "=========================================================================\n",
       "\n",
       "\"\"\""
      ]
     },
     "execution_count": 20,
     "metadata": {},
     "output_type": "execute_result"
    }
   ],
   "source": [
    "sm.Logit(y_train,X_train_withoutscal).fit().summary2()"
   ]
  },
  {
   "cell_type": "markdown",
   "metadata": {},
   "source": [
    "without scaling it is giving warning and asking for scaling the dataset."
   ]
  },
  {
   "cell_type": "markdown",
   "metadata": {},
   "source": [
    "### Min-Max Scalling - Model 2"
   ]
  },
  {
   "cell_type": "code",
   "execution_count": 33,
   "metadata": {},
   "outputs": [],
   "source": [
    "logreg_result_withmimmaxscale = logistic_regression(X_train_mimmaxscaled, y_train)"
   ]
  },
  {
   "cell_type": "code",
   "execution_count": 34,
   "metadata": {},
   "outputs": [
    {
     "name": "stdout",
     "output_type": "stream",
     "text": [
      "Training score : 0.76\n",
      "Testing score : 0.73\n"
     ]
    }
   ],
   "source": [
    "#print the train - test scores\n",
    "print(\"Training score : {:.2f}\".format(logreg_result_withmimmaxscale.score(X_train_mimmaxscaled,y_train)))\n",
    "print(\"Testing score : {:.2f}\".format(logreg_result_withmimmaxscale.score(X_test_minmaxscaled,y_test)))"
   ]
  },
  {
   "cell_type": "code",
   "execution_count": 36,
   "metadata": {},
   "outputs": [
    {
     "name": "stdout",
     "output_type": "stream",
     "text": [
      "Optimization terminated successfully.\n",
      "         Current function value: 0.249223\n",
      "         Iterations 10\n"
     ]
    },
    {
     "data": {
      "text/html": [
       "<table class=\"simpletable\">\n",
       "<tr>\n",
       "        <td>Model:</td>              <td>Logit</td>      <td>Pseudo R-squared:</td>    <td>0.604</td>  \n",
       "</tr>\n",
       "<tr>\n",
       "  <td>Dependent Variable:</td>         <td>y</td>              <td>AIC:</td>         <td>132.1630</td> \n",
       "</tr>\n",
       "<tr>\n",
       "         <td>Date:</td>        <td>2021-04-03 12:58</td>       <td>BIC:</td>         <td>172.7217</td> \n",
       "</tr>\n",
       "<tr>\n",
       "   <td>No. Observations:</td>         <td>217</td>        <td>Log-Likelihood:</td>    <td>-54.081</td> \n",
       "</tr>\n",
       "<tr>\n",
       "       <td>Df Model:</td>             <td>11</td>            <td>LL-Null:</td>        <td>-136.45</td> \n",
       "</tr>\n",
       "<tr>\n",
       "     <td>Df Residuals:</td>           <td>205</td>         <td>LLR p-value:</td>    <td>1.4262e-29</td>\n",
       "</tr>\n",
       "<tr>\n",
       "      <td>Converged:</td>           <td>1.0000</td>           <td>Scale:</td>         <td>1.0000</td>  \n",
       "</tr>\n",
       "<tr>\n",
       "    <td>No. Iterations:</td>        <td>10.0000</td>             <td></td>               <td></td>     \n",
       "</tr>\n",
       "</table>\n",
       "<table class=\"simpletable\">\n",
       "<tr>\n",
       "   <td></td>     <th>Coef.</th>  <th>Std.Err.</th>    <th>z</th>     <th>P>|z|</th>  <th>[0.025</th>   <th>0.975]</th> \n",
       "</tr>\n",
       "<tr>\n",
       "  <th>x1</th>  <td>-21.0871</td>  <td>10.0725</td> <td>-2.0935</td> <td>0.0363</td> <td>-40.8287</td>  <td>-1.3454</td>\n",
       "</tr>\n",
       "<tr>\n",
       "  <th>x2</th>   <td>15.2298</td>  <td>4.6724</td>  <td>3.2596</td>  <td>0.0011</td>  <td>6.0722</td>   <td>24.3874</td>\n",
       "</tr>\n",
       "<tr>\n",
       "  <th>x3</th>   <td>-5.3262</td>  <td>3.5753</td>  <td>-1.4897</td> <td>0.1363</td> <td>-12.3336</td>  <td>1.6812</td> \n",
       "</tr>\n",
       "<tr>\n",
       "  <th>x4</th>   <td>14.6766</td>  <td>9.9900</td>  <td>1.4691</td>  <td>0.1418</td>  <td>-4.9035</td>  <td>34.2566</td>\n",
       "</tr>\n",
       "<tr>\n",
       "  <th>x5</th>  <td>-10.8122</td>  <td>2.7742</td>  <td>-3.8975</td> <td>0.0001</td> <td>-16.2495</td>  <td>-5.3749</td>\n",
       "</tr>\n",
       "<tr>\n",
       "  <th>x6</th>   <td>88.0711</td>  <td>14.9869</td> <td>5.8765</td>  <td>0.0000</td>  <td>58.6972</td> <td>117.4449</td>\n",
       "</tr>\n",
       "<tr>\n",
       "  <th>x7</th>   <td>-0.1943</td>  <td>0.9540</td>  <td>-0.2037</td> <td>0.8386</td>  <td>-2.0642</td>  <td>1.6755</td> \n",
       "</tr>\n",
       "<tr>\n",
       "  <th>x8</th>   <td>-0.9588</td>  <td>1.0131</td>  <td>-0.9464</td> <td>0.3439</td>  <td>-2.9445</td>  <td>1.0268</td> \n",
       "</tr>\n",
       "<tr>\n",
       "  <th>x9</th>   <td>-0.0087</td>  <td>1.0044</td>  <td>-0.0087</td> <td>0.9931</td>  <td>-1.9773</td>  <td>1.9598</td> \n",
       "</tr>\n",
       "<tr>\n",
       "  <th>x10</th>  <td>1.2979</td>   <td>0.9060</td>  <td>1.4325</td>  <td>0.1520</td>  <td>-0.4779</td>  <td>3.0737</td> \n",
       "</tr>\n",
       "<tr>\n",
       "  <th>x11</th>  <td>0.2071</td>   <td>0.8909</td>  <td>0.2325</td>  <td>0.8162</td>  <td>-1.5391</td>  <td>1.9533</td> \n",
       "</tr>\n",
       "<tr>\n",
       "  <th>x12</th>  <td>-1.5119</td>  <td>0.9294</td>  <td>-1.6268</td> <td>0.1038</td>  <td>-3.3334</td>  <td>0.3096</td> \n",
       "</tr>\n",
       "</table>"
      ],
      "text/plain": [
       "<class 'statsmodels.iolib.summary2.Summary'>\n",
       "\"\"\"\n",
       "                         Results: Logit\n",
       "=================================================================\n",
       "Model:              Logit            Pseudo R-squared: 0.604     \n",
       "Dependent Variable: y                AIC:              132.1630  \n",
       "Date:               2021-04-03 12:58 BIC:              172.7217  \n",
       "No. Observations:   217              Log-Likelihood:   -54.081   \n",
       "Df Model:           11               LL-Null:          -136.45   \n",
       "Df Residuals:       205              LLR p-value:      1.4262e-29\n",
       "Converged:          1.0000           Scale:            1.0000    \n",
       "No. Iterations:     10.0000                                      \n",
       "-------------------------------------------------------------------\n",
       "        Coef.     Std.Err.      z      P>|z|     [0.025     0.975] \n",
       "-------------------------------------------------------------------\n",
       "x1     -21.0871    10.0725   -2.0935   0.0363   -40.8287    -1.3454\n",
       "x2      15.2298     4.6724    3.2596   0.0011     6.0722    24.3874\n",
       "x3      -5.3262     3.5753   -1.4897   0.1363   -12.3336     1.6812\n",
       "x4      14.6766     9.9900    1.4691   0.1418    -4.9035    34.2566\n",
       "x5     -10.8122     2.7742   -3.8975   0.0001   -16.2495    -5.3749\n",
       "x6      88.0711    14.9869    5.8765   0.0000    58.6972   117.4449\n",
       "x7      -0.1943     0.9540   -0.2037   0.8386    -2.0642     1.6755\n",
       "x8      -0.9588     1.0131   -0.9464   0.3439    -2.9445     1.0268\n",
       "x9      -0.0087     1.0044   -0.0087   0.9931    -1.9773     1.9598\n",
       "x10      1.2979     0.9060    1.4325   0.1520    -0.4779     3.0737\n",
       "x11      0.2071     0.8909    0.2325   0.8162    -1.5391     1.9533\n",
       "x12     -1.5119     0.9294   -1.6268   0.1038    -3.3334     0.3096\n",
       "=================================================================\n",
       "\n",
       "\"\"\""
      ]
     },
     "execution_count": 36,
     "metadata": {},
     "output_type": "execute_result"
    }
   ],
   "source": [
    "sm.Logit(y_train,X_train_mimmaxscaled).fit().summary2()"
   ]
  },
  {
   "cell_type": "code",
   "execution_count": null,
   "metadata": {},
   "outputs": [],
   "source": [
    "Observation:\n",
    "    Not very high stardad deviation. \n",
    "    Model has converged well in 10 iterations\n",
    "    Based on P value will take the significant variables at 95% of confidence: x1, x2, x5, x6"
   ]
  },
  {
   "cell_type": "markdown",
   "metadata": {},
   "source": [
    "### Min-Max Scaling - Model 3"
   ]
  },
  {
   "cell_type": "code",
   "execution_count": 46,
   "metadata": {},
   "outputs": [],
   "source": [
    "# considering only the variables which have p-value less than 0.05\n",
    "X = dataSet.loc[:,dataSet.columns != 'Status']\n",
    "y = dataSet.loc[:,dataSet.columns == 'Status']\n",
    "X_trim_1 = X.loc[:,['pelvic_incidence', 'pelvic tilt','pelvic_radius','degree_spondylolisthesis']]"
   ]
  },
  {
   "cell_type": "code",
   "execution_count": 49,
   "metadata": {},
   "outputs": [
    {
     "name": "stdout",
     "output_type": "stream",
     "text": [
      "Training set score: 0.742\n",
      "Test set score: 0.753\n"
     ]
    }
   ],
   "source": [
    "X_train_scaled, X_test_scaled, y_train, y_test = data_preprocess_withMinMaxScaling(X_trim_1,y)\n",
    "\n",
    "logreg_result = logistic_regression(X_train_mimmaxscaled, y_train)\n",
    "\n",
    "print(\"Training set score: {:.3f}\".format(logreg_result.score(X_train_scaled,y_train)))\n",
    "print(\"Test set score: {:.3f}\".format(logreg_result.score(X_test_scaled,y_test)))"
   ]
  },
  {
   "cell_type": "code",
   "execution_count": 50,
   "metadata": {},
   "outputs": [
    {
     "name": "stdout",
     "output_type": "stream",
     "text": [
      "Optimization terminated successfully.\n",
      "         Current function value: 0.268989\n",
      "         Iterations 10\n",
      "                         Results: Logit\n",
      "=================================================================\n",
      "Model:              Logit            Pseudo R-squared: 0.572     \n",
      "Dependent Variable: y                AIC:              124.7413  \n",
      "Date:               2021-04-03 14:13 BIC:              138.2609  \n",
      "No. Observations:   217              Log-Likelihood:   -58.371   \n",
      "Df Model:           3                LL-Null:          -136.45   \n",
      "Df Residuals:       213              LLR p-value:      1.2368e-33\n",
      "Converged:          1.0000           Scale:            1.0000    \n",
      "No. Iterations:     10.0000                                      \n",
      "-------------------------------------------------------------------\n",
      "        Coef.     Std.Err.      z      P>|z|     [0.025     0.975] \n",
      "-------------------------------------------------------------------\n",
      "x1     -11.7024     2.8543   -4.0999   0.0000   -17.2967    -6.1081\n",
      "x2      11.2496     2.4347    4.6205   0.0000     6.4776    16.0216\n",
      "x3      -8.9899     1.5770   -5.7004   0.0000   -12.0808    -5.8989\n",
      "x4      83.8481    13.4963    6.2127   0.0000    57.3959   110.3002\n",
      "=================================================================\n",
      "\n"
     ]
    }
   ],
   "source": [
    "logit_model=sm.Logit(y_train,X_train_scaled)\n",
    "result=logit_model.fit()\n",
    "print(result.summary2())"
   ]
  },
  {
   "cell_type": "code",
   "execution_count": 52,
   "metadata": {},
   "outputs": [],
   "source": [
    "import numpy as np\n",
    "# assigning the model predicted values to y_pred\n",
    "y_pred = logreg_result.predict(X_test_scaled)\n",
    "\n",
    "# assigning the string Normal and Abnormal to the 0 and 1 values respectively. This is useful in plotting \n",
    "# the confusion matrix\n",
    "y_pred_string = y_pred.astype(str)\n",
    "y_pred_string[np.where(y_pred_string == '0')] = 'Normal'\n",
    "y_pred_string[np.where(y_pred_string == '1')] = 'Abnormal'\n",
    "\n",
    "y_test_string = y_test.astype(str)\n",
    "y_test_string[np.where(y_test_string == '0')] = 'Normal'\n",
    "y_test_string[np.where(y_test_string == '1')] = 'Abnormal'"
   ]
  },
  {
   "cell_type": "code",
   "execution_count": 53,
   "metadata": {},
   "outputs": [
    {
     "name": "stderr",
     "output_type": "stream",
     "text": [
      "C:\\ProgramData\\Anaconda3\\lib\\site-packages\\sklearn\\utils\\validation.py:68: FutureWarning: Pass labels=['Abnormal', 'Normal'] as keyword args. From version 0.25 passing these as positional arguments will result in an error\n",
      "  warnings.warn(\"Pass {} as keyword args. From version 0.25 \"\n"
     ]
    },
    {
     "data": {
      "image/png": "[encoded data removed]",
      "text/plain": [
       "<Figure size 432x288 with 2 Axes>"
      ]
     },
     "metadata": {
      "needs_background": "light"
     },
     "output_type": "display_data"
    }
   ],
   "source": [
    "# Gauging model accuracy\n",
    "\n",
    "from sklearn.metrics import confusion_matrix\n",
    "ax= plt.subplot()\n",
    "labels = ['Abnormal','Normal']\n",
    "cm = confusion_matrix(y_test_string, y_pred_string, labels)\n",
    "sns.heatmap(cm, annot=True, ax = ax); #annot=True to annotate cells\n",
    "\n",
    "# labels, title and ticks\n",
    "ax.set_xlabel('Predicted labels');ax.set_ylabel('True labels'); \n",
    "ax.set_title('Confusion Matrix'); \n",
    "ax.xaxis.set_ticklabels(['Abnormal', 'Normal']); ax.yaxis.set_ticklabels(['Abnormal', 'Normal']);\n",
    "plt.show()"
   ]
  },
  {
   "cell_type": "code",
   "execution_count": null,
   "metadata": {},
   "outputs": [],
   "source": []
  }
 ],
 "metadata": {
  "kernelspec": {
   "display_name": "Python 3",
   "language": "python",
   "name": "python3"
  },
  "language_info": {
   "codemirror_mode": {
    "name": "ipython",
    "version": 3
   },
   "file_extension": ".py",
   "mimetype": "text/x-python",
   "name": "python",
   "nbconvert_exporter": "python",
   "pygments_lexer": "ipython3",
   "version": "3.8.3"
  }
 },
 "nbformat": 4,
 "nbformat_minor": 4
}
